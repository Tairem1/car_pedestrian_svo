{
 "cells": [
  {
   "cell_type": "code",
   "execution_count": 1,
   "metadata": {},
   "outputs": [
    {
     "name": "stdout",
     "output_type": "stream",
     "text": [
      "pygame 2.0.1 (SDL 2.0.14, Python 3.7.9)\n",
      "Hello from the pygame community. https://www.pygame.org/contribute.html\n"
     ]
    }
   ],
   "source": [
    "# Simulator packages\n",
    "from environment import CarEnv\n",
    "from train_mlp import reward_fn, social_reward_fn\n",
    "from stable_baselines3 import SAC\n",
    "import pygame\n",
    "\n",
    "# Data analysis packages\n",
    "import numpy as np\n",
    "import pandas as pd\n",
    "\n",
    "# OS packages\n",
    "import os\n",
    "import glob\n",
    "from shutil import copyfile"
   ]
  },
  {
   "cell_type": "markdown",
   "metadata": {},
   "source": [
    "### Specify the location (folder) containing the models to be evaluated and initialize data container"
   ]
  },
  {
   "cell_type": "code",
   "execution_count": 2,
   "metadata": {},
   "outputs": [
    {
     "name": "stdout",
     "output_type": "stream",
     "text": [
      "['svo_00', 'svo_10', 'svo_20', 'svo_30', 'svo_40', 'svo_50', 'svo_60', 'svo_70', 'svo_80']\n"
     ]
    }
   ],
   "source": [
    "NUM_EVAL_EPISODES = 100\n",
    "MAX_LEN = 300   # Store pededestrian and car position for a maximum of MAX_LEN steps\n",
    "\n",
    "training_instance = \"TRAINING_20000\"\n",
    "folder_name = os.path.join(\"./logs/\", training_instance)\n",
    "model_names = [os.path.basename(el) for el in glob.glob(os.path.join(folder_name, \"svo_*\"))]\n",
    "\n",
    "print(model_names)\n",
    "\n",
    "dtypes = np.dtype([\n",
    "    (\"goal_reached\", bool),\n",
    "    (\"collisions\", bool),\n",
    "    (\"is_crossing\", bool),\n",
    "    (\"is_aware\", bool),\n",
    "    (\"ep_length\", np.uint32),\n",
    "    (\"time_to_reach_goal\", np.float32),\n",
    "    (\"collision_speed\", np.float32)\n",
    "])\n",
    "\n",
    "data = {os.path.basename(el): {\"path\": el, \n",
    "                            \"num_episodes\": NUM_EVAL_EPISODES,\n",
    "                            \"episodes\": pd.DataFrame(np.zeros(shape=(NUM_EVAL_EPISODES,), dtype=dtypes))} \n",
    "        for el in glob.glob(os.path.join(folder_name, \"svo_*\"))}\n",
    "\n",
    "for el in data:\n",
    "    data[el][\"episodes\"][\"acceleration\"] = [np.zeros(shape=(MAX_LEN), dtype=np.float32) for _ in range(NUM_EVAL_EPISODES)]\n",
    "    data[el][\"episodes\"][\"ped_pos\"] = [np.zeros(shape=(MAX_LEN, 2), dtype=np.float32) for _ in range(NUM_EVAL_EPISODES)]\n",
    "    data[el][\"episodes\"][\"car_pos\"] = [np.zeros(shape=(MAX_LEN, 2), dtype=np.float32) for _ in range(NUM_EVAL_EPISODES)]\n",
    "    #data[el][\"episodes\"][\"jerk\"] = [np.zeros(shape=(MAX_LEN), dtype=np.float32) for _ in range(NUM_EVAL_EPISODES)]"
   ]
  },
  {
   "cell_type": "markdown",
   "metadata": {},
   "source": [
    "### Specify destination folder"
   ]
  },
  {
   "cell_type": "code",
   "execution_count": 3,
   "metadata": {},
   "outputs": [
    {
     "name": "stdout",
     "output_type": "stream",
     "text": [
      "./results/TRAINING_20000_eval2\n"
     ]
    }
   ],
   "source": [
    "if not os.path.isdir(\"./results/\"):\n",
    "    os.mkdir(\"./results/\")\n",
    "\n",
    "dst_folder = os.path.join(\"./results/\", training_instance + \"_eval2\")\n",
    "print(dst_folder)\n",
    "\n",
    "if not os.path.isdir(dst_folder):\n",
    "    os.mkdir(dst_folder)\n",
    "    \n",
    "copyfile(os.path.join(folder_name, \"metadata.json\"), os.path.join(dst_folder, \"metadata.json\"));"
   ]
  },
  {
   "cell_type": "markdown",
   "metadata": {},
   "source": [
    "# Evaluate each model"
   ]
  },
  {
   "cell_type": "markdown",
   "metadata": {},
   "source": [
    "### Pre-spawn pedestrians"
   ]
  },
  {
   "cell_type": "code",
   "execution_count": 4,
   "metadata": {},
   "outputs": [
    {
     "name": "stdout",
     "output_type": "stream",
     "text": [
      "Pedestrian awareness probability set to: 1\n"
     ]
    }
   ],
   "source": [
    "# Create a dummy environment to get spawn locations with CarEnv methods\n",
    "helper_env = CarEnv(window_size = (800, 400), \n",
    "                     record_video=False,\n",
    "                     render=False, \n",
    "                     reward_fn=social_reward_fn,\n",
    "                     pedestrian_model='SGSFM')\n",
    "\n",
    "percentage_crossing = 0.9      # Percentage of pedestrians that will cross the road\n",
    "awareness_probability = 0.9    # Probability that a pedestrian is aware of the vehicle\n",
    "p_bottom = 0.5                 # Probability that the pedestrian spawns in the bottom pavement\n",
    "\n",
    "ped_dtypes = np.dtype([\n",
    "    (\"is_crossing\", bool),\n",
    "    (\"is_aware\", bool),\n",
    "    (\"is_bottom\", bool),\n",
    "    (\"spawn_x\", np.float32),\n",
    "    (\"spawn_y\", np.float32),\n",
    "    (\"goal_x\", np.float32),\n",
    "    (\"goal_y\", np.float32)\n",
    "])\n",
    "\n",
    "ped = pd.DataFrame(np.zeros(shape=(NUM_EVAL_EPISODES,), dtype=ped_dtypes))\n",
    "ped[\"is_crossing\"] = [np.random.binomial(1, percentage_crossing)==1 for _ in range(NUM_EVAL_EPISODES)]\n",
    "ped[\"is_aware\"] = [np.random.binomial(1, awareness_probability)==1 for _ in range(NUM_EVAL_EPISODES)]\n",
    "ped[\"is_bottom\"] = [np.random.binomial(1, p_bottom)==1 for _ in range(NUM_EVAL_EPISODES)]\n",
    "\n",
    "for i in range(NUM_EVAL_EPISODES):\n",
    "    s_x, s_y, g_x, g_y = helper_env.get_random_pedestrian_spawn_info(ped.loc[i, \"is_crossing\"], \n",
    "                                                                      ped.loc[i, \"is_bottom\"])\n",
    "    ped.loc[i, \"spawn_x\"] = s_x\n",
    "    ped.loc[i, \"spawn_y\"] = s_y\n",
    "    ped.loc[i, \"goal_x\"] = g_x\n",
    "    ped.loc[i, \"goal_y\"] = g_y"
   ]
  },
  {
   "cell_type": "markdown",
   "metadata": {},
   "source": [
    "### Pre-spawn vehicle"
   ]
  },
  {
   "cell_type": "code",
   "execution_count": 5,
   "metadata": {},
   "outputs": [],
   "source": [
    "veh_dtypes = np.dtype([\n",
    "    (\"spawn_x\", np.float32),\n",
    "    (\"spawn_y\", np.float32),\n",
    "    (\"initial_velocity\", np.float32)\n",
    "])\n",
    "\n",
    "veh = pd.DataFrame(np.zeros(shape=(NUM_EVAL_EPISODES,), dtype=veh_dtypes))\n",
    "\n",
    "for i in range(NUM_EVAL_EPISODES):\n",
    "    x_0, y_0, v_0 = helper_env.get_random_vehicle_spawn_info()\n",
    "    veh.loc[i, \"spawn_x\"] = x_0\n",
    "    veh.loc[i, \"spawn_y\"] = y_0\n",
    "    veh.loc[i, \"initial_velocity\"] = v_0"
   ]
  },
  {
   "cell_type": "markdown",
   "metadata": {},
   "source": [
    "### Evaluation\n"
   ]
  },
  {
   "cell_type": "code",
   "execution_count": 6,
   "metadata": {},
   "outputs": [
    {
     "name": "stdout",
     "output_type": "stream",
     "text": [
      "Evaluating svo_00\n",
      "Pedestrian awareness probability set to: 0.9\n",
      "Evaluating svo_10\n",
      "Pedestrian awareness probability set to: 0.9\n",
      "Evaluating svo_20\n",
      "Pedestrian awareness probability set to: 0.9\n",
      "Evaluating svo_30\n",
      "Pedestrian awareness probability set to: 0.9\n",
      "Evaluating svo_40\n",
      "Pedestrian awareness probability set to: 0.9\n",
      "Evaluating svo_50\n",
      "Pedestrian awareness probability set to: 0.9\n",
      "Evaluating svo_60\n",
      "Pedestrian awareness probability set to: 0.9\n",
      "Evaluating svo_70\n",
      "Pedestrian awareness probability set to: 0.9\n",
      "Evaluating svo_80\n",
      "Pedestrian awareness probability set to: 0.9\n"
     ]
    }
   ],
   "source": [
    "for model_name in model_names:\n",
    "    print(f\"Evaluating {model_name}\")\n",
    "    model = data[model_name]\n",
    "    episodes = model[\"episodes\"]\n",
    "    \n",
    "    env = CarEnv(window_size = (800, 400), \n",
    "                 record_video=False,\n",
    "                 render=False, \n",
    "                 reward_fn=social_reward_fn,\n",
    "                 training=False,\n",
    "                 pedestrian_model='SGSFM',\n",
    "                 p_aware=awareness_probability)\n",
    "    \n",
    "    nn_path = os.path.join(model[\"path\"], \"best_model.zip\")\n",
    "    nn = SAC.load(nn_path)\n",
    "    \n",
    "    for i in range(NUM_EVAL_EPISODES):\n",
    "        veh_info = veh.loc[i]\n",
    "        ped_info = ped.loc[i]\n",
    "        \n",
    "        obs = env.reset(pedestrian_info=ped_info, vehicle_info=veh_info)\n",
    "        counter = 0\n",
    "        done = False\n",
    "                \n",
    "        while not done:\n",
    "            env.render()\n",
    "            action, _ = nn.predict(obs, deterministic=True)\n",
    "            obs, reward, done, _ = env.step(action)\n",
    "            \n",
    "            if counter < MAX_LEN:\n",
    "                episodes.loc[i, \"acceleration\"][counter] = env.vehicle.get_acceleration()[0]\n",
    "                episodes.loc[i, \"car_pos\"][counter] = env.vehicle.position\n",
    "                episodes.loc[i, \"ped_pos\"][counter] = env.pedestrian.position\n",
    "                counter += 1\n",
    "            \n",
    "            if done:\n",
    "                episodes.loc[i, \"collisions\"] = env.collision_occurred\n",
    "                episodes.loc[i, \"goal_reached\"] = env.vehicle.goal_reached\n",
    "                episodes.loc[i, \"ep_length\"] = env.timestep\n",
    "                \n",
    "                if env.vehicle.goal_reached:\n",
    "                    episodes.loc[i, \"time_to_reach_goal\"] = env.timestep * env.dt\n",
    "                    \n",
    "                if env.collision_occurred:\n",
    "                    car_speed = env.vehicle.velocity\n",
    "                    ped_speed = env.pedestrian.velocity\n",
    "                    rel_speed = car_speed - ped_speed\n",
    "                    episodes.loc[i, \"collision_speed\"] = np.linalg.norm(rel_speed)\n",
    "                    \n",
    "                episodes.loc[i, \"is_aware\"] = ped_info[\"is_aware\"]\n",
    "                episodes.loc[i, \"is_crossing\"] = ped_info[\"is_crossing\"]"
   ]
  },
  {
   "cell_type": "markdown",
   "metadata": {},
   "source": [
    "### Save Results"
   ]
  },
  {
   "cell_type": "code",
   "execution_count": 7,
   "metadata": {},
   "outputs": [],
   "source": [
    "for model_name in model_names:\n",
    "    df = data[model_name][\"episodes\"]\n",
    "    df.to_pickle(os.path.join(dst_folder, f\"{model_name}.pkl\"))\n",
    "    \n",
    "ped.to_pickle(os.path.join(dst_folder, \"pedestrian_info.pkl\"))\n",
    "veh.to_pickle(os.path.join(dst_folder, \"vehicle_info.pkl\"))"
   ]
  },
  {
   "cell_type": "code",
   "execution_count": 8,
   "metadata": {},
   "outputs": [
    {
     "name": "stdout",
     "output_type": "stream",
     "text": [
      "Saving results to ./results/TRAINING_20000_eval2\n"
     ]
    }
   ],
   "source": [
    "print(f\"Saving results to {dst_folder}\")"
   ]
  },
  {
   "cell_type": "code",
   "execution_count": null,
   "metadata": {},
   "outputs": [],
   "source": []
  }
 ],
 "metadata": {
  "kernelspec": {
   "display_name": "Python 3",
   "language": "python",
   "name": "python3"
  },
  "language_info": {
   "codemirror_mode": {
    "name": "ipython",
    "version": 3
   },
   "file_extension": ".py",
   "mimetype": "text/x-python",
   "name": "python",
   "nbconvert_exporter": "python",
   "pygments_lexer": "ipython3",
   "version": "3.8.5"
  }
 },
 "nbformat": 4,
 "nbformat_minor": 5
}
